{
 "cells": [
  {
   "cell_type": "markdown",
   "metadata": {},
   "source": [
    "Use this for playcounts: https://github.com/entriphy/sp-playcount-librespot"
   ]
  },
  {
   "cell_type": "code",
   "execution_count": null,
   "metadata": {},
   "outputs": [],
   "source": [
    "from datetime import datetime, timedelta\n",
    "import json\n",
    "import requests\n",
    "import random\n",
    "import pandas as pd\n",
    "import time"
   ]
  },
  {
   "cell_type": "code",
   "execution_count": null,
   "metadata": {},
   "outputs": [],
   "source": [
    "track_ids = [l.strip() for l in open('./track_ids.txt', 'r').readlines()]\n",
    "df = pd.DataFrame({'track_id': track_ids})"
   ]
  },
  {
   "cell_type": "code",
   "execution_count": null,
   "metadata": {},
   "outputs": [],
   "source": [
    "spotify_client_id = ''\n",
    "spotify_client_secret = ''\n",
    "\n",
    "token = requests.post(\n",
    "    'https://accounts.spotify.com/api/token',\n",
    "    data={'grant_type': 'client_credentials'},\n",
    "    auth=requests.auth.HTTPBasicAuth(\n",
    "        spotify_client_id,\n",
    "        spotify_client_secret\n",
    "    )\n",
    ").json()\n",
    "\n",
    "def get_track_info(track_id):\n",
    "    track_resp = requests.get(\n",
    "        f'https://api.spotify.com/v1/tracks/{track_id}',\n",
    "        headers={'Authorization': f'Bearer {token[\"access_token\"]}'}\n",
    "    )\n",
    "    time.sleep(.5)\n",
    "    playcount_resp = requests.get(\n",
    "        f'https://api.t4ils.dev/albumPlayCount',\n",
    "        params={'albumid': track_resp.json()[\"album\"][\"id\"]}\n",
    "    )\n",
    "    for album_track in sum((d['tracks'] for d in playcount_resp.json()['data']['discs']), start=[]):\n",
    "        if track_id in album_track['uri']:\n",
    "            return album_track"
   ]
  },
  {
   "cell_type": "code",
   "execution_count": null,
   "metadata": {},
   "outputs": [],
   "source": [
    "df['track_info'] = df['track_id'].apply(get_track_info)"
   ]
  },
  {
   "cell_type": "code",
   "execution_count": null,
   "metadata": {},
   "outputs": [],
   "source": [
    "df['name'] = df['track_info'].apply(lambda x: x['name'])\n",
    "df['artists'] = df['track_info'].apply(lambda x: [a['name'] for a in x['artists']])\n",
    "df['playcount'] = df['track_info'].apply(lambda x: x['playcount'])\n",
    "df['explicit'] = df['track_info'].apply(lambda x: x['explicit'])\n",
    "df['popularity'] = df['track_info'].apply(lambda x: x['popularity'])"
   ]
  },
  {
   "cell_type": "code",
   "execution_count": null,
   "metadata": {},
   "outputs": [],
   "source": [
    "df.to_csv('track_data.csv', index=False)"
   ]
  },
  {
   "cell_type": "code",
   "execution_count": null,
   "metadata": {},
   "outputs": [],
   "source": [
    "sorted_df = df[~df['explicit']].sort_values(['playcount'], ascending=False).reset_index(drop=True)\n",
    "l1 = list(sorted_df[sorted_df.index % 2 == 0]['track_id'])\n",
    "l2 = list(sorted_df[sorted_df.index % 2 == 1]['track_id'])\n",
    "if len(l1) > len(l2):\n",
    "    del l1[random.randint(0, len(l1)-1)]\n",
    "\n",
    "matchups = []\n",
    "while len(l1) > 0:\n",
    "    i = random.randint(0, min(len(l1) - 1, 9))\n",
    "    j = random.randint(0, min(len(l2) - 1, 9))\n",
    "    matchups.append((l1[i], l2[j]) if random.random() > 0.5 else (l2[j], l1[i]))\n",
    "    del l1[i]\n",
    "    del l2[j]\n",
    "\n",
    "matchups.sort(key=lambda x: random.random())"
   ]
  },
  {
   "cell_type": "code",
   "execution_count": null,
   "metadata": {},
   "outputs": [],
   "source": [
    "d = datetime.date(datetime.strptime('2023-12-01', r'%Y-%m-%d'))\n",
    "\n",
    "schedule = []\n",
    "for t1id, t2id in matchups:\n",
    "    schedule.append({\n",
    "        'date': str(d),\n",
    "        'track1Id': t1id,\n",
    "        'track2Id': t2id,\n",
    "    })\n",
    "    d += timedelta(days=1)\n",
    "\n",
    "with open('schedule.json', 'w') as f:\n",
    "    json.dump(schedule, f)"
   ]
  }
 ],
 "metadata": {
  "kernelspec": {
   "display_name": "spotify-game-UHuREveJ-py3.9",
   "language": "python",
   "name": "python3"
  },
  "language_info": {
   "codemirror_mode": {
    "name": "ipython",
    "version": 3
   },
   "file_extension": ".py",
   "mimetype": "text/x-python",
   "name": "python",
   "nbconvert_exporter": "python",
   "pygments_lexer": "ipython3",
   "version": "3.9.16"
  },
  "orig_nbformat": 4
 },
 "nbformat": 4,
 "nbformat_minor": 2
}
