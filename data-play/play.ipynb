{
 "cells": [
  {
   "cell_type": "markdown",
   "metadata": {},
   "source": [
    "Use this for playcounts: https://github.com/entriphy/sp-playcount-librespot"
   ]
  },
  {
   "cell_type": "code",
   "execution_count": null,
   "metadata": {},
   "outputs": [],
   "source": [
    "import json\n",
    "import datetime\n",
    "import requests"
   ]
  },
  {
   "cell_type": "code",
   "execution_count": null,
   "metadata": {},
   "outputs": [],
   "source": [
    "spotify_client_id = ''\n",
    "spotify_client_secret = ''\n",
    "\n",
    "token = requests.post(\n",
    "    'https://accounts.spotify.com/api/token',\n",
    "    data={'grant_type': 'client_credentials'},\n",
    "    auth=requests.auth.HTTPBasicAuth(\n",
    "        spotify_client_id,\n",
    "        spotify_client_secret\n",
    "    )\n",
    ").json()"
   ]
  },
  {
   "cell_type": "code",
   "execution_count": null,
   "metadata": {},
   "outputs": [],
   "source": [
    "r = requests.get(\n",
    "    'https://api.spotify.com/v1/tracks/11dFghVXANMlKmJXsNCbNl',\n",
    "    headers={'Authorization': f'Bearer {token[\"access_token\"]}'}\n",
    ")\n",
    "\n",
    "r.json()"
   ]
  },
  {
   "cell_type": "code",
   "execution_count": null,
   "metadata": {},
   "outputs": [],
   "source": [
    "r = requests.get('https://api.t4ils.dev/albumPlayCount?albumid=6Lq1lrCfkpxKa4jCo5gKWr')\n",
    "r.json()"
   ]
  },
  {
   "cell_type": "code",
   "execution_count": null,
   "metadata": {},
   "outputs": [],
   "source": [
    "l = []\n",
    "d = datetime.date(1970, 1, 1)\n",
    "for i in range(10):\n",
    "    x = {\n",
    "        'date': str(d),\n",
    "        'track1Id': '',\n",
    "        'track1Name': '',\n",
    "        'track1Listens': '',\n",
    "        'track2Id': '',\n",
    "        'track2Name': '',\n",
    "        'track2Listens': '',\n",
    "        'finalized': ''\n",
    "    }\n",
    "    l.append(x)\n",
    "    d += datetime.timedelta(days=1)\n",
    "    "
   ]
  },
  {
   "cell_type": "code",
   "execution_count": null,
   "metadata": {},
   "outputs": [],
   "source": [
    "json.dumps(l)"
   ]
  },
  {
   "cell_type": "code",
   "execution_count": null,
   "metadata": {},
   "outputs": [],
   "source": []
  }
 ],
 "metadata": {
  "kernelspec": {
   "display_name": "spotify-game-UHuREveJ-py3.9",
   "language": "python",
   "name": "python3"
  },
  "language_info": {
   "codemirror_mode": {
    "name": "ipython",
    "version": 3
   },
   "file_extension": ".py",
   "mimetype": "text/x-python",
   "name": "python",
   "nbconvert_exporter": "python",
   "pygments_lexer": "ipython3",
   "version": "3.9.16"
  },
  "orig_nbformat": 4
 },
 "nbformat": 4,
 "nbformat_minor": 2
}
