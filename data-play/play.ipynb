{
 "cells": [
  {
   "cell_type": "markdown",
   "metadata": {},
   "source": [
    "Use this for playcounts: https://github.com/entriphy/sp-playcount-librespot"
   ]
  },
  {
   "cell_type": "code",
   "execution_count": null,
   "metadata": {},
   "outputs": [],
   "source": [
    "import json\n",
    "import datetime\n",
    "import requests\n",
    "import random"
   ]
  },
  {
   "cell_type": "code",
   "execution_count": null,
   "metadata": {},
   "outputs": [],
   "source": [
    "a_bunch_of_track_ids = [\"6fsRXgV3LycumEjZlr4ril\", \"453QwgDIG95NmmLqSxnPsR\", \"2tux1s5FVabQQKpz7GEXbI\", \"27r42A2NMzg2hoFZjQFrm3\", \"6Yx9yDESLdPcpytSmOmltM\", \"0Lbn2I0kL2jB1OAydhzNcF\", \"3HWDWyIqWuLsTHECx9DvXF\", \"5kRBzRZmZTXVg8okC7SJFZ\", \"2vKjwpDugAHqVphL5M6vKo\", \"0Yd7U8LUQrC9k81b3fBVoS\", \"1HldoPwNAX4CP0qGi0T333\", \"6BtmXhTJMM9sBTHeYYASGz\", \"4lqZLGig6QVTsiRibIGzQO\", \"3r8YeuPRmIvUPqZvDEmOXj\", \"5vqDfXxQbSgY4YTJCka5UJ\", \"2bsC6KLZ6a9v6zdoDkziBL\", \"7MWyPTX4hXvQ0inSZ41Eu5\", \"5c6hDuQstuPbBmOd5UhxKT\", \"1LJDUGFkHr8CC4AsTeAFOK\", \"65wnZsZLKJimfK1cTFOfa1\", \"5LbYbAkAQl6fEzc3T8QT6K\", \"1HmcWnUuoEg0UP4olfLXgc\", \"75wjqFeGOiNIrx5PoJiiEJ\", \"4rTD34yd4a3ECP7vpkyFf0\", \"3G3PP7pAkAaZ6QzM0duBry\", \"7l8gHk3b9AwjC7gRhOqtP4\", \"2EQG1cpkxblYWrnVPkudMH\", \"2XPmTamsj7d9i3gzLCL4JI\", \"1zFwFZ112by5yUtZOysUJb\", \"5ieX9f8koqqgEoW7Kg6GlD\", \"7qEKqBCD2vE5vIBsrUitpD\", \"5CalS8Gn69OOrR9aiw0ZO9\", \"7DLo0DDUNv1ERr2wDCEMTK\", \"4lJNen4SMTIJMahALc3DcB\", \"7vqW8OemTJJpvMupPeuFRL\", \"4ulrQQu8H7ZsW9PVqjYSza\", \"2ToW7zhGCrVrLU4fiKj9U1\", \"0X8nUI33fv2e6RZ9kdh1gp\", \"2zXKqJFHefEgjlg3rYW7Rx\", \"6yRMD3sIMKJxvK0hcyxPCO\", \"16JTjdN6CHny2ByZO5lcSR\", \"5kjaMjkQxkJYZiDSIbuIF8\", \"2JL2HnpJafCrqMOZyQlmNx\", \"3pKNiSzelPOJWV4lKP4IRB\", \"4zgO1SgXOeFmr6Hno9DLs4\", \"7kbTZWt7DnzIzbkyzFE1PW\", \"70eDxAyAraNTiD6lx2ZEnH\", \"6cWpj6c5pNZYEk5KYjNBji\", \"09b5vch8cDyMN8vYA2lEwk\", \"1jJci4qxiYcOHhQR247rEU\", \"6mEINGDE1N3hOOCm41I25a\", \"2tznHmp70DxMyr2XhWLOW0\"]"
   ]
  },
  {
   "cell_type": "code",
   "execution_count": null,
   "metadata": {},
   "outputs": [],
   "source": [
    "spotify_client_id = ''\n",
    "spotify_client_secret = ''\n",
    "\n",
    "token = requests.post(\n",
    "    'https://accounts.spotify.com/api/token',\n",
    "    data={'grant_type': 'client_credentials'},\n",
    "    auth=requests.auth.HTTPBasicAuth(\n",
    "        spotify_client_id,\n",
    "        spotify_client_secret\n",
    "    )\n",
    ").json()"
   ]
  },
  {
   "cell_type": "code",
   "execution_count": null,
   "metadata": {},
   "outputs": [],
   "source": [
    "def get_track_info(track_id):\n",
    "    track_resp = requests.get(\n",
    "        f'https://api.spotify.com/v1/tracks/{track_id}',\n",
    "        headers={'Authorization': f'Bearer {token[\"access_token\"]}'}\n",
    "    )\n",
    "    playcount_resp = requests.get(\n",
    "        f'https://api.t4ils.dev/albumPlayCount',\n",
    "        params={'albumid': track_resp.json()[\"album\"][\"id\"]}\n",
    "    )\n",
    "    for album_track in sum((d['tracks'] for d in playcount_resp.json()['data']['discs']), start=[]):\n",
    "        if track_id in album_track['uri']:\n",
    "            return album_track"
   ]
  },
  {
   "cell_type": "code",
   "execution_count": null,
   "metadata": {},
   "outputs": [],
   "source": [
    "l = []\n",
    "track_ids = random.sample(a_bunch_of_track_ids, k=50)\n",
    "d = datetime.date(1970, 1, 1)\n",
    "for id1, id2 in zip(track_ids[:25], track_ids[25:]):\n",
    "    t1 = get_track_info(id1)\n",
    "    t2 = get_track_info(id2)\n",
    "    x = {\n",
    "        'date': str(d),\n",
    "        'track1Id': t1['uri'].split(':')[-1],\n",
    "        'track1Name': t1['name'],\n",
    "        'track1Playcount': t1['playcount'],\n",
    "        'track2Id': t2['uri'].split(':')[-1],\n",
    "        'track2Name': t2['name'],\n",
    "        'track2Playcount': t2['playcount'],\n",
    "        'finalized': ''\n",
    "    }\n",
    "    l.append(x)\n",
    "    d += datetime.timedelta(days=1)"
   ]
  },
  {
   "cell_type": "code",
   "execution_count": null,
   "metadata": {},
   "outputs": [],
   "source": [
    "print(json.dumps(l[::-1]))"
   ]
  },
  {
   "cell_type": "code",
   "execution_count": null,
   "metadata": {},
   "outputs": [],
   "source": []
  }
 ],
 "metadata": {
  "kernelspec": {
   "display_name": "spotify-game-UHuREveJ-py3.9",
   "language": "python",
   "name": "python3"
  },
  "language_info": {
   "codemirror_mode": {
    "name": "ipython",
    "version": 3
   },
   "file_extension": ".py",
   "mimetype": "text/x-python",
   "name": "python",
   "nbconvert_exporter": "python",
   "pygments_lexer": "ipython3",
   "version": "3.9.16"
  },
  "orig_nbformat": 4
 },
 "nbformat": 4,
 "nbformat_minor": 2
}
